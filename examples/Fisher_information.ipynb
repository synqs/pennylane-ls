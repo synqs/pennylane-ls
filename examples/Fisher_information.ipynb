{
 "cells": [
  {
   "cell_type": "code",
   "execution_count": 10,
   "metadata": {},
   "outputs": [],
   "source": [
    "import pennylane as qml\n",
    "import numpy as np\n",
    "import matplotlib.pyplot as plt\n",
    "\n",
    "import strawberryfields as sf\n",
    "from strawberryfields import ops\n",
    "\n",
    "%config InlineBackend.figure_format='retina'"
   ]
  },
  {
   "cell_type": "markdown",
   "metadata": {},
   "source": [
    "At first we want to see how we can implement the $\\hat{L}_z^2$ operation in the pennylane language. Just like in the example of the paper of Cindy Regal we will start off by modeling the number of $|\\uparrow\\rangle$ states and $|\\downarrow\\rangle$ states with Fock states. This is called \"dual rail encoding\".\n",
    "\n",
    "We can write the $\\hat{L}_z^2$ operator in exponential from with Kerr $K_i(\\kappa)=e^{i\\kappa n_i^2}$ and Cross-Kerr gates $KC_{i, j}(\\kappa)=e^{i\\kappa n_in_j}$. $\\hat{L}_z^2 = (n_1 - n_2)^2 = n_1^2 - 2n_1n_2 + n_2^2$."
   ]
  },
  {
   "cell_type": "code",
   "execution_count": 34,
   "metadata": {},
   "outputs": [],
   "source": [
    "dev = qml.device('strawberryfields.fock', wires=2, cutoff_dim=11)\n",
    "\n",
    "@qml.qnode(dev)\n",
    "def Kerr_test(kappa, var=False):\n",
    "    qml.FockState(5, wires=0)\n",
    "    qml.FockState(0, wires=1)\n",
    "    qml.Kerr(kappa, wires=0)\n",
    "    qml.Kerr(kappa, wires=1)\n",
    "    qml.CrossKerr(-kappa*2, wires=[0, 1])\n",
    "    if var:  \n",
    "        return [qml.var(qml.NumberOperator(0)),qml.var(qml.NumberOperator(1))]\n",
    "    else:\n",
    "        return [qml.expval(qml.NumberOperator(0)),qml.expval(qml.NumberOperator(1))]\n",
    "    \n"
   ]
  },
  {
   "cell_type": "code",
   "execution_count": 35,
   "metadata": {},
   "outputs": [
    {
     "name": "stdout",
     "output_type": "stream",
     "text": [
      " 0: ──|5⟩──Kerr(1)──╭CrossKerr(-2)──┤ ⟨n⟩ \n",
      " 1: ──|0⟩──Kerr(1)──╰CrossKerr(-2)──┤ ⟨n⟩ \n",
      "\n"
     ]
    }
   ],
   "source": [
    "Kerr_test(1)\n",
    "print(Kerr_test.draw())"
   ]
  },
  {
   "cell_type": "code",
   "execution_count": 73,
   "metadata": {},
   "outputs": [
    {
     "name": "stdout",
     "output_type": "stream",
     "text": [
      "[5. 0.]\n",
      "variance = [0. 0.]\n"
     ]
    }
   ],
   "source": [
    "print(Kerr_test(1))\n",
    "\n",
    "\n",
    "print(\"variance =\", Kerr_test(1, var=True))"
   ]
  },
  {
   "cell_type": "code",
   "execution_count": 37,
   "metadata": {},
   "outputs": [],
   "source": [
    "dev = qml.device('strawberryfields.fock', wires=2, cutoff_dim=11)\n",
    "\n",
    "@qml.qnode(dev)\n",
    "def Kerr_beamsplitter(theta, kappa, var=False):\n",
    "    qml.FockState(5, wires=0)\n",
    "    qml.FockState(0, wires=1)\n",
    "    \n",
    "    qml.Beamsplitter(theta, 0, wires=[0, 1])\n",
    "    qml.Kerr(kappa, wires=0)\n",
    "    qml.Kerr(kappa, wires=1)\n",
    "    qml.CrossKerr(-kappa*2, wires=[0, 1])\n",
    "    if var:  \n",
    "        return [qml.var(qml.NumberOperator(0)),qml.var(qml.NumberOperator(1))]\n",
    "    else:\n",
    "        return [qml.expval(qml.NumberOperator(0)),qml.expval(qml.NumberOperator(1))]\n",
    "    \n",
    "\n"
   ]
  },
  {
   "cell_type": "code",
   "execution_count": 38,
   "metadata": {},
   "outputs": [
    {
     "name": "stdout",
     "output_type": "stream",
     "text": [
      "[array([1.45963291, 3.54036709]), array([1.45963291, 3.54036709]), array([1.45963291, 3.54036709]), array([1.45963291, 3.54036709]), array([1.45963291, 3.54036709]), array([1.45963291, 3.54036709]), array([1.45963291, 3.54036709]), array([1.45963291, 3.54036709]), array([1.45963291, 3.54036709]), array([1.45963291, 3.54036709])]\n"
     ]
    }
   ],
   "source": [
    "thetas = np.linspace(0, np.pi/2, 10)\n",
    "print(list(Kerr_beamsplitter(1, theta) for theta in thetas))"
   ]
  },
  {
   "cell_type": "markdown",
   "metadata": {},
   "source": [
    "Direct implementation in the stawberryfields plugin to extract samples"
   ]
  },
  {
   "cell_type": "code",
   "execution_count": 74,
   "metadata": {},
   "outputs": [],
   "source": [
    "def circuit(theta, kappa, bs=False):\n",
    "    prog = sf.Program(2)\n",
    "    with prog.context as q:\n",
    "        ops.Fock(5) | q[0]\n",
    "        ops.Fock(0) | q[1]\n",
    "        if bs:            \n",
    "            ops.BSgate(theta, 0) | (q[0], q[1])\n",
    "            \n",
    "        ops.Kgate(kappa)   | q[0]\n",
    "        ops.CKgate(kappa)  | (q[0], q[1])\n",
    "        ops.Kgate(-2*kappa)| q[1]\n",
    "\n",
    "        ops.MeasureFock()| q\n",
    "    eng = sf.Engine(\"fock\", backend_options={\"cutoff_dim\" :  10})\n",
    "    result = eng.run(prog)\n",
    "    return result\n",
    "\n"
   ]
  },
  {
   "cell_type": "code",
   "execution_count": 82,
   "metadata": {},
   "outputs": [],
   "source": [
    "thetas = np.linspace(0 ,np.pi/2, 15)\n",
    "result = np.array([circuit(i, 1).samples for i in thetas])\n",
    "result_bs = np.array([circuit(i, 1, bs=True).samples for i in thetas])"
   ]
  },
  {
   "cell_type": "code",
   "execution_count": 83,
   "metadata": {},
   "outputs": [
    {
     "name": "stdout",
     "output_type": "stream",
     "text": [
      "[[[5 0]]\n",
      "\n",
      " [[5 0]]\n",
      "\n",
      " [[5 0]]\n",
      "\n",
      " [[5 0]]\n",
      "\n",
      " [[5 0]]\n",
      "\n",
      " [[5 0]]\n",
      "\n",
      " [[5 0]]\n",
      "\n",
      " [[5 0]]\n",
      "\n",
      " [[5 0]]\n",
      "\n",
      " [[5 0]]\n",
      "\n",
      " [[5 0]]\n",
      "\n",
      " [[5 0]]\n",
      "\n",
      " [[5 0]]\n",
      "\n",
      " [[5 0]]\n",
      "\n",
      " [[5 0]]]\n",
      "\n",
      "[[[5 0]]\n",
      "\n",
      " [[5 0]]\n",
      "\n",
      " [[5 0]]\n",
      "\n",
      " [[5 0]]\n",
      "\n",
      " [[3 2]]\n",
      "\n",
      " [[3 2]]\n",
      "\n",
      " [[3 2]]\n",
      "\n",
      " [[5 0]]\n",
      "\n",
      " [[2 3]]\n",
      "\n",
      " [[2 3]]\n",
      "\n",
      " [[0 5]]\n",
      "\n",
      " [[1 4]]\n",
      "\n",
      " [[0 5]]\n",
      "\n",
      " [[0 5]]\n",
      "\n",
      " [[0 5]]]\n"
     ]
    }
   ],
   "source": [
    "\n",
    "print(result)\n",
    "print(\"\")\n",
    "print(result_bs)"
   ]
  },
  {
   "cell_type": "code",
   "execution_count": 85,
   "metadata": {},
   "outputs": [],
   "source": [
    "thetas = np.linspace(0 ,np.pi/2, 15)\n",
    "result = [circuit(i, 0).samples for i in thetas]"
   ]
  }
 ],
 "metadata": {
  "kernelspec": {
   "display_name": "Python 3",
   "language": "python",
   "name": "python3"
  },
  "language_info": {
   "codemirror_mode": {
    "name": "ipython",
    "version": 3
   },
   "file_extension": ".py",
   "mimetype": "text/x-python",
   "name": "python",
   "nbconvert_exporter": "python",
   "pygments_lexer": "ipython3",
   "version": "3.7.9"
  }
 },
 "nbformat": 4,
 "nbformat_minor": 4
}
