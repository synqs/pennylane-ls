{
 "cells": [
  {
   "cell_type": "code",
   "execution_count": 1,
   "metadata": {},
   "outputs": [],
   "source": [
    "import pennylane as qml\n",
    "import numpy as np\n",
    "import sys\n",
    "\n",
    "%load_ext autoreload\n",
    "%autoreload 2"
   ]
  },
  {
   "cell_type": "code",
   "execution_count": 2,
   "metadata": {},
   "outputs": [],
   "source": [
    "from pennylane_ls import *\n",
    "from pennylane_ls.MultiQuditDevice import MultiQuditDevice"
   ]
  },
  {
   "cell_type": "code",
   "execution_count": 3,
   "metadata": {},
   "outputs": [],
   "source": [
    "from heroku_credentials import username, password\n",
    "\n",
    "# from local_credentials  import username, password"
   ]
  },
  {
   "cell_type": "code",
   "execution_count": 4,
   "metadata": {},
   "outputs": [],
   "source": [
    "# url_server = \"http://localhost:8000/multiqudit/\"    # the back-end for local testing\n",
    "url_server = \"http://qsimsim.synqs.org/multiqudit/\"  # the back-end for remote testing"
   ]
  },
  {
   "cell_type": "code",
   "execution_count": 5,
   "metadata": {},
   "outputs": [],
   "source": [
    "# multiDevice = MultiQuditDevice(wires=4, shots=5, username=username, password=password)\n",
    "multiDevice = qml.device(\n",
    "    \"synqs.mqs\",\n",
    "    wires=4,\n",
    "    shots=50,\n",
    "    username=username,\n",
    "    password=password,\n",
    "    blocking=True,\n",
    ")"
   ]
  },
  {
   "cell_type": "code",
   "execution_count": 6,
   "metadata": {},
   "outputs": [
    {
     "data": {
      "text/plain": [
       "{'model': 'qudit',\n",
       " 'supports_finite_shots': True,\n",
       " 'supports_tensor_observables': True,\n",
       " 'returns_probs': False}"
      ]
     },
     "execution_count": 6,
     "metadata": {},
     "output_type": "execute_result"
    }
   ],
   "source": [
    "multiDevice.capabilities()"
   ]
  },
  {
   "cell_type": "markdown",
   "metadata": {},
   "source": [
    "# Test load gate"
   ]
  },
  {
   "cell_type": "code",
   "execution_count": 7,
   "metadata": {},
   "outputs": [],
   "source": [
    "@qml.qnode(multiDevice)\n",
    "def quantum_circuit_for_load(alpha=0):\n",
    "    load(100, wires=0)\n",
    "    load(20, wires=1)\n",
    "    return qml.expval(MultiQuditOps.Z(0))"
   ]
  },
  {
   "cell_type": "code",
   "execution_count": 8,
   "metadata": {},
   "outputs": [],
   "source": [
    "res = quantum_circuit_for_load()"
   ]
  },
  {
   "cell_type": "code",
   "execution_count": 9,
   "metadata": {},
   "outputs": [
    {
     "name": "stdout",
     "output_type": "stream",
     "text": [
      " 0: ──load(100)──┤ ⟨Z⟩ \n",
      " 1: ──load(20)───┤     \n",
      "\n"
     ]
    }
   ],
   "source": [
    "print(quantum_circuit_for_load.draw())"
   ]
  },
  {
   "cell_type": "code",
   "execution_count": 10,
   "metadata": {},
   "outputs": [
    {
     "data": {
      "text/plain": [
       "tensor(0., requires_grad=False)"
      ]
     },
     "execution_count": 10,
     "metadata": {},
     "output_type": "execute_result"
    }
   ],
   "source": [
    "res"
   ]
  },
  {
   "cell_type": "markdown",
   "metadata": {},
   "source": [
    "# Test rLx gate"
   ]
  },
  {
   "cell_type": "code",
   "execution_count": 11,
   "metadata": {},
   "outputs": [],
   "source": [
    "@qml.qnode(multiDevice)\n",
    "def quantum_circuit_for_rLx():\n",
    "    load(50, wires=0)\n",
    "    rLx(np.pi, wires=0)\n",
    "    return qml.expval(SingleQuditOps.Z(0))"
   ]
  },
  {
   "cell_type": "code",
   "execution_count": 12,
   "metadata": {},
   "outputs": [],
   "source": [
    "res = quantum_circuit_for_rLx()"
   ]
  },
  {
   "cell_type": "code",
   "execution_count": 13,
   "metadata": {},
   "outputs": [
    {
     "name": "stdout",
     "output_type": "stream",
     "text": [
      " 0: ──load(50)──rLx(3.14)──┤ ⟨Z⟩ \n",
      "\n"
     ]
    }
   ],
   "source": [
    "print(quantum_circuit_for_rLx.draw())"
   ]
  },
  {
   "cell_type": "code",
   "execution_count": 14,
   "metadata": {},
   "outputs": [
    {
     "data": {
      "text/plain": [
       "tensor(0., requires_grad=False)"
      ]
     },
     "execution_count": 14,
     "metadata": {},
     "output_type": "execute_result"
    }
   ],
   "source": [
    "res"
   ]
  },
  {
   "cell_type": "markdown",
   "metadata": {},
   "source": [
    "# Test rLz gate"
   ]
  },
  {
   "cell_type": "code",
   "execution_count": 15,
   "metadata": {},
   "outputs": [],
   "source": [
    "@qml.qnode(multiDevice)\n",
    "def quantum_circuit_for_rLz(alpha=0):\n",
    "    rLz(0.15, wires=0)\n",
    "    rLz(0.2, wires=3)\n",
    "    return qml.expval(MultiQuditOps.Z(0))"
   ]
  },
  {
   "cell_type": "code",
   "execution_count": 16,
   "metadata": {},
   "outputs": [],
   "source": [
    "res = quantum_circuit_for_rLz()"
   ]
  },
  {
   "cell_type": "code",
   "execution_count": 17,
   "metadata": {},
   "outputs": [
    {
     "name": "stdout",
     "output_type": "stream",
     "text": [
      " 0: ──rLz(0.15)──┤ ⟨Z⟩ \n",
      " 3: ──rLz(0.2)───┤     \n",
      "\n"
     ]
    }
   ],
   "source": [
    "print(quantum_circuit_for_rLz.draw())"
   ]
  },
  {
   "cell_type": "markdown",
   "metadata": {},
   "source": [
    "# Test rLz2 gate"
   ]
  },
  {
   "cell_type": "code",
   "execution_count": 18,
   "metadata": {},
   "outputs": [],
   "source": [
    "@qml.qnode(multiDevice)\n",
    "def quantum_circuit_for_rLz2(alpha=0):\n",
    "    rLz2(np.pi, wires=0)\n",
    "    return qml.expval(MultiQuditOps.Z(0))"
   ]
  },
  {
   "cell_type": "code",
   "execution_count": 19,
   "metadata": {},
   "outputs": [],
   "source": [
    "res = quantum_circuit_for_rLz2()"
   ]
  },
  {
   "cell_type": "code",
   "execution_count": 20,
   "metadata": {},
   "outputs": [
    {
     "name": "stdout",
     "output_type": "stream",
     "text": [
      " 0: ──rLz2(3.14)──┤ ⟨Z⟩ \n",
      "\n"
     ]
    }
   ],
   "source": [
    "print(quantum_circuit_for_rLz2.draw())"
   ]
  },
  {
   "cell_type": "markdown",
   "metadata": {},
   "source": [
    "# Test LzLz gate"
   ]
  },
  {
   "cell_type": "code",
   "execution_count": 21,
   "metadata": {},
   "outputs": [],
   "source": [
    "@qml.qnode(multiDevice)\n",
    "def quantum_circuit_for_LzLz(alpha=0):\n",
    "    load(10, wires=0)\n",
    "    MultiQuditOps.LzLz(0.1, wires=[0, 1])\n",
    "    return qml.expval(MultiQuditOps.Z(0))"
   ]
  },
  {
   "cell_type": "code",
   "execution_count": 22,
   "metadata": {},
   "outputs": [],
   "source": [
    "res = quantum_circuit_for_LzLz()"
   ]
  },
  {
   "cell_type": "code",
   "execution_count": 23,
   "metadata": {},
   "outputs": [
    {
     "data": {
      "text/plain": [
       "tensor(0., requires_grad=False)"
      ]
     },
     "execution_count": 23,
     "metadata": {},
     "output_type": "execute_result"
    }
   ],
   "source": [
    "quantum_circuit_for_LzLz()"
   ]
  },
  {
   "cell_type": "code",
   "execution_count": 24,
   "metadata": {},
   "outputs": [
    {
     "name": "stdout",
     "output_type": "stream",
     "text": [
      " 0: ──load(10)──╭LzLz(0.1)──┤ ⟨Z⟩ \n",
      " 1: ────────────╰LzLz(0.1)──┤     \n",
      "\n"
     ]
    }
   ],
   "source": [
    "print(quantum_circuit_for_LzLz.draw())"
   ]
  },
  {
   "cell_type": "markdown",
   "metadata": {},
   "source": [
    "# Test LxLy gate"
   ]
  },
  {
   "cell_type": "code",
   "execution_count": 25,
   "metadata": {},
   "outputs": [],
   "source": [
    "@qml.qnode(multiDevice)\n",
    "def quantum_circuit_for_LxLy(alpha=0):\n",
    "    load(10, wires=0)\n",
    "    MultiQuditOps.LxLy(0.1, wires=[0, 1])\n",
    "    return qml.expval(MultiQuditOps.Z(0))"
   ]
  },
  {
   "cell_type": "code",
   "execution_count": null,
   "metadata": {},
   "outputs": [],
   "source": [
    "res = quantum_circuit_for_LxLy()"
   ]
  },
  {
   "cell_type": "code",
   "execution_count": null,
   "metadata": {},
   "outputs": [],
   "source": []
  }
 ],
 "metadata": {
  "kernelspec": {
   "display_name": "Python 3 (ipykernel)",
   "language": "python",
   "name": "python3"
  },
  "language_info": {
   "codemirror_mode": {
    "name": "ipython",
    "version": 3
   },
   "file_extension": ".py",
   "mimetype": "text/x-python",
   "name": "python",
   "nbconvert_exporter": "python",
   "pygments_lexer": "ipython3",
   "version": "3.9.5"
  }
 },
 "nbformat": 4,
 "nbformat_minor": 4
}
