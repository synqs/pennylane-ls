{
 "cells": [
  {
   "cell_type": "code",
   "execution_count": 1,
   "metadata": {},
   "outputs": [],
   "source": [
    "import pennylane as qml\n",
    "import numpy as np\n",
    "import sys"
   ]
  },
  {
   "cell_type": "code",
   "execution_count": 2,
   "metadata": {},
   "outputs": [],
   "source": [
    "from pennylane_ls import *"
   ]
  },
  {
   "cell_type": "raw",
   "metadata": {},
   "source": [
    "from heroku_credentials import username, password"
   ]
  },
  {
   "cell_type": "code",
   "execution_count": 3,
   "metadata": {},
   "outputs": [],
   "source": [
    "testDevice = qml.device(\"synqs.sqs\", shots = 50, username = username, password = password, blocking=True)"
   ]
  },
  {
   "cell_type": "code",
   "execution_count": 4,
   "metadata": {},
   "outputs": [
    {
     "data": {
      "text/plain": [
       "{'load', 'rLx', 'rLz', 'rLz2'}"
      ]
     },
     "execution_count": 4,
     "metadata": {},
     "output_type": "execute_result"
    }
   ],
   "source": [
    "testDevice.operations"
   ]
  },
  {
   "cell_type": "markdown",
   "metadata": {},
   "source": [
    "### For the single qudit simulator"
   ]
  },
  {
   "cell_type": "code",
   "execution_count": 5,
   "metadata": {},
   "outputs": [],
   "source": [
    "@qml.qnode(testDevice)\n",
    "def quantum_circuit(alpha=0):\n",
    "    load(50,wires=0)\n",
    "    rLx(alpha,wires=0)\n",
    "    rLx(alpha, wires=0)\n",
    "    rLz(alpha, wires=0)\n",
    "    return qml.expval(SingleQuditOps.Z(0))"
   ]
  },
  {
   "cell_type": "code",
   "execution_count": 6,
   "metadata": {},
   "outputs": [
    {
     "name": "stdout",
     "output_type": "stream",
     "text": [
      "b'{\"job_id\": \"20211001_182212-singlequdit-synqs_test-e58f3\", \"status\": \"INITIALIZING\", \"detail\": \"Got your json.\"}'\n",
      "b'{\"job_id\": \"20211001_182212-singlequdit-synqs_test-e58f3\", \"status\": \"INITIALIZING\", \"detail\": \"Got your json.\"}'\n",
      "INITIALIZING\n",
      "b'{\"job_id\": \"20211001_182212-singlequdit-synqs_test-e58f3\", \"status\": \"INITIALIZING\", \"detail\": \"Got your json.\"}'\n",
      "INITIALIZING\n",
      "b'{\"job_id\": \"20211001_182212-singlequdit-synqs_test-e58f3\", \"status\": \"DONE\", \"detail\": \"Got your json.; Passed json sanity check; Compilation done. Shots sent to solver.\"}'\n",
      "b'{\"job_id\": \"20211001_182212-singlequdit-synqs_test-e58f3\", \"status\": \"DONE\", \"detail\": \"Got your json.; Passed json sanity check; Compilation done. Shots sent to solver.\"}'\n",
      "b'{\"job_id\": \"20211001_182212-singlequdit-synqs_test-e58f3\", \"status\": \"DONE\", \"detail\": \"Got your json.; Passed json sanity check; Compilation done. Shots sent to solver.\"}'\n",
      "b'{\"job_id\": \"20211001_182212-singlequdit-synqs_test-e58f3\", \"status\": \"DONE\", \"detail\": \"Got your json.; Passed json sanity check; Compilation done. Shots sent to solver.\"}'\n"
     ]
    }
   ],
   "source": [
    "res = quantum_circuit(3)"
   ]
  },
  {
   "cell_type": "code",
   "execution_count": 7,
   "metadata": {},
   "outputs": [
    {
     "name": "stdout",
     "output_type": "stream",
     "text": [
      " 0: ──load(50)──rLx(3)──rLx(3)──rLz(3)──┤ ⟨Z⟩ \n",
      "\n"
     ]
    }
   ],
   "source": [
    "print(quantum_circuit.draw())"
   ]
  },
  {
   "cell_type": "code",
   "execution_count": 8,
   "metadata": {},
   "outputs": [
    {
     "data": {
      "text/plain": [
       "tensor(1.02, requires_grad=True)"
      ]
     },
     "execution_count": 8,
     "metadata": {},
     "output_type": "execute_result"
    }
   ],
   "source": [
    "res"
   ]
  },
  {
   "cell_type": "code",
   "execution_count": 9,
   "metadata": {},
   "outputs": [
    {
     "name": "stdout",
     "output_type": "stream",
     "text": [
      "b'{\"job_id\": \"20211001_182212-singlequdit-synqs_test-e58f3\", \"status\": \"DONE\", \"detail\": \"Got your json.; Passed json sanity check; Compilation done. Shots sent to solver.\"}'\n",
      "b'{\"job_id\": \"20211001_182212-singlequdit-synqs_test-e58f3\", \"status\": \"DONE\", \"detail\": \"Got your json.; Passed json sanity check; Compilation done. Shots sent to solver.\"}'\n"
     ]
    },
    {
     "data": {
      "text/plain": [
       "1.02"
      ]
     },
     "execution_count": 9,
     "metadata": {},
     "output_type": "execute_result"
    }
   ],
   "source": [
    "testDevice.expval('Z', wires=0, par=0)"
   ]
  },
  {
   "cell_type": "code",
   "execution_count": 10,
   "metadata": {},
   "outputs": [
    {
     "name": "stdout",
     "output_type": "stream",
     "text": [
      "b'{\"job_id\": \"20211001_182212-singlequdit-synqs_test-e58f3\", \"status\": \"DONE\", \"detail\": \"Got your json.; Passed json sanity check; Compilation done. Shots sent to solver.\"}'\n",
      "b'{\"job_id\": \"20211001_182212-singlequdit-synqs_test-e58f3\", \"status\": \"DONE\", \"detail\": \"Got your json.; Passed json sanity check; Compilation done. Shots sent to solver.\"}'\n"
     ]
    },
    {
     "data": {
      "text/plain": [
       "0.7796"
      ]
     },
     "execution_count": 10,
     "metadata": {},
     "output_type": "execute_result"
    }
   ],
   "source": [
    "testDevice.var('Z', wires=0, par=0)"
   ]
  },
  {
   "cell_type": "code",
   "execution_count": 11,
   "metadata": {},
   "outputs": [],
   "source": [
    "@qml.qnode(testDevice)\n",
    "def quantum_circuit(alpha=0):\n",
    "    load(50,wires=0)\n",
    "    rLx(np.pi/2+2*np.pi,wires=0)\n",
    "    rLx(np.pi/2, wires=0)\n",
    "    rLz(np.pi, wires=0)\n",
    "    return qml.sample(Lz(0))"
   ]
  },
  {
   "cell_type": "code",
   "execution_count": 12,
   "metadata": {},
   "outputs": [
    {
     "name": "stdout",
     "output_type": "stream",
     "text": [
      "b'{\"job_id\": \"20211001_182254-singlequdit-synqs_test-3fcaf\", \"status\": \"INITIALIZING\", \"detail\": \"Got your json.\"}'\n",
      "b'{\"job_id\": \"20211001_182254-singlequdit-synqs_test-3fcaf\", \"status\": \"INITIALIZING\", \"detail\": \"Got your json.\"}'\n",
      "INITIALIZING\n",
      "b'{\"job_id\": \"20211001_182254-singlequdit-synqs_test-3fcaf\", \"status\": \"INITIALIZING\", \"detail\": \"Got your json.\"}'\n",
      "INITIALIZING\n",
      "b'{\"job_id\": \"20211001_182254-singlequdit-synqs_test-3fcaf\", \"status\": \"INITIALIZING\", \"detail\": \"Got your json.\"}'\n",
      "INITIALIZING\n",
      "b'{\"job_id\": \"20211001_182254-singlequdit-synqs_test-3fcaf\", \"status\": \"DONE\", \"detail\": \"Got your json.; Passed json sanity check; Compilation done. Shots sent to solver.\"}'\n",
      "b'{\"job_id\": \"20211001_182254-singlequdit-synqs_test-3fcaf\", \"status\": \"DONE\", \"detail\": \"Got your json.; Passed json sanity check; Compilation done. Shots sent to solver.\"}'\n"
     ]
    },
    {
     "data": {
      "text/plain": [
       "array([24.5, 24.5, 24.5, 24.5, 24.5, 24.5, 24.5, 24.5, 24.5, 24.5, 24.5,\n",
       "       24.5, 24.5, 24.5, 24.5, 24.5, 24.5, 24.5, 24.5, 24.5, 24.5, 24.5,\n",
       "       24.5, 24.5, 24.5, 24.5, 24.5, 24.5, 24.5, 24.5, 24.5, 24.5, 24.5,\n",
       "       24.5, 24.5, 24.5, 24.5, 24.5, 24.5, 24.5, 24.5, 24.5, 24.5, 24.5,\n",
       "       24.5, 24.5, 24.5, 24.5, 24.5, 24.5])"
      ]
     },
     "execution_count": 12,
     "metadata": {},
     "output_type": "execute_result"
    }
   ],
   "source": [
    "quantum_circuit(0)"
   ]
  },
  {
   "cell_type": "code",
   "execution_count": 13,
   "metadata": {},
   "outputs": [
    {
     "name": "stdout",
     "output_type": "stream",
     "text": [
      " 0: ──load(50)──rLx(7.85)──rLx(1.57)──rLz(3.14)──┤ Sample[Lz] \n",
      "\n"
     ]
    }
   ],
   "source": [
    "print(quantum_circuit.draw())"
   ]
  },
  {
   "cell_type": "code",
   "execution_count": 14,
   "metadata": {},
   "outputs": [
    {
     "name": "stdout",
     "output_type": "stream",
     "text": [
      "b'{\"job_id\": \"20211001_182254-singlequdit-synqs_test-3fcaf\", \"status\": \"DONE\", \"detail\": \"Got your json.; Passed json sanity check; Compilation done. Shots sent to solver.\"}'\n",
      "b'{\"job_id\": \"20211001_182254-singlequdit-synqs_test-3fcaf\", \"status\": \"DONE\", \"detail\": \"Got your json.; Passed json sanity check; Compilation done. Shots sent to solver.\"}'\n"
     ]
    },
    {
     "data": {
      "text/plain": [
       "50.0"
      ]
     },
     "execution_count": 14,
     "metadata": {},
     "output_type": "execute_result"
    }
   ],
   "source": [
    "testDevice.expval('Z', wires=0, par=0)"
   ]
  },
  {
   "cell_type": "code",
   "execution_count": 15,
   "metadata": {},
   "outputs": [
    {
     "name": "stdout",
     "output_type": "stream",
     "text": [
      "b'{\"job_id\": \"20211001_182254-singlequdit-synqs_test-3fcaf\", \"status\": \"DONE\", \"detail\": \"Got your json.; Passed json sanity check; Compilation done. Shots sent to solver.\"}'\n",
      "b'{\"job_id\": \"20211001_182254-singlequdit-synqs_test-3fcaf\", \"status\": \"DONE\", \"detail\": \"Got your json.; Passed json sanity check; Compilation done. Shots sent to solver.\"}'\n"
     ]
    },
    {
     "data": {
      "text/plain": [
       "0.0"
      ]
     },
     "execution_count": 15,
     "metadata": {},
     "output_type": "execute_result"
    }
   ],
   "source": [
    "testDevice.var('Z', wires=0, par=0)"
   ]
  },
  {
   "cell_type": "code",
   "execution_count": 16,
   "metadata": {},
   "outputs": [],
   "source": [
    "@qml.qnode(testDevice)\n",
    "def quantum_circuit(alpha=0):\n",
    "    load(50,wires=0)\n",
    "    rLx(np.pi/2,wires=0)\n",
    "    rLx(np.pi/2, wires=0)\n",
    "    rLz(np.pi, wires=0)\n",
    "    return qml.expval(SingleQuditOps.Lz(0))"
   ]
  },
  {
   "cell_type": "code",
   "execution_count": 17,
   "metadata": {},
   "outputs": [
    {
     "name": "stdout",
     "output_type": "stream",
     "text": [
      "b'{\"job_id\": \"20211001_182334-singlequdit-synqs_test-a599b\", \"status\": \"INITIALIZING\", \"detail\": \"Got your json.\"}'\n",
      "b'{\"job_id\": \"20211001_182334-singlequdit-synqs_test-a599b\", \"status\": \"INITIALIZING\", \"detail\": \"Got your json.\"}'\n",
      "INITIALIZING\n",
      "b'{\"job_id\": \"20211001_182334-singlequdit-synqs_test-a599b\", \"status\": \"INITIALIZING\", \"detail\": \"Got your json.\"}'\n",
      "INITIALIZING\n",
      "b'{\"job_id\": \"20211001_182334-singlequdit-synqs_test-a599b\", \"status\": \"DONE\", \"detail\": \"Got your json.; Passed json sanity check; Compilation done. Shots sent to solver.\"}'\n",
      "b'{\"job_id\": \"20211001_182334-singlequdit-synqs_test-a599b\", \"status\": \"DONE\", \"detail\": \"Got your json.; Passed json sanity check; Compilation done. Shots sent to solver.\"}'\n",
      "b'{\"job_id\": \"20211001_182334-singlequdit-synqs_test-a599b\", \"status\": \"DONE\", \"detail\": \"Got your json.; Passed json sanity check; Compilation done. Shots sent to solver.\"}'\n",
      "b'{\"job_id\": \"20211001_182334-singlequdit-synqs_test-a599b\", \"status\": \"DONE\", \"detail\": \"Got your json.; Passed json sanity check; Compilation done. Shots sent to solver.\"}'\n"
     ]
    },
    {
     "data": {
      "text/plain": [
       "tensor(24.5, requires_grad=False)"
      ]
     },
     "execution_count": 17,
     "metadata": {},
     "output_type": "execute_result"
    }
   ],
   "source": [
    "quantum_circuit(0)"
   ]
  },
  {
   "cell_type": "code",
   "execution_count": 18,
   "metadata": {},
   "outputs": [
    {
     "name": "stdout",
     "output_type": "stream",
     "text": [
      "b'{\"job_id\": \"20211001_182334-singlequdit-synqs_test-a599b\", \"status\": \"DONE\", \"detail\": \"Got your json.; Passed json sanity check; Compilation done. Shots sent to solver.\"}'\n",
      "b'{\"job_id\": \"20211001_182334-singlequdit-synqs_test-a599b\", \"status\": \"DONE\", \"detail\": \"Got your json.; Passed json sanity check; Compilation done. Shots sent to solver.\"}'\n"
     ]
    },
    {
     "data": {
      "text/plain": [
       "50.0"
      ]
     },
     "execution_count": 18,
     "metadata": {},
     "output_type": "execute_result"
    }
   ],
   "source": [
    "testDevice.expval('Z', wires=0, par=0)"
   ]
  },
  {
   "cell_type": "code",
   "execution_count": 19,
   "metadata": {},
   "outputs": [
    {
     "name": "stdout",
     "output_type": "stream",
     "text": [
      "b'{\"job_id\": \"20211001_182334-singlequdit-synqs_test-a599b\", \"status\": \"DONE\", \"detail\": \"Got your json.; Passed json sanity check; Compilation done. Shots sent to solver.\"}'\n",
      "b'{\"job_id\": \"20211001_182334-singlequdit-synqs_test-a599b\", \"status\": \"DONE\", \"detail\": \"Got your json.; Passed json sanity check; Compilation done. Shots sent to solver.\"}'\n"
     ]
    },
    {
     "data": {
      "text/plain": [
       "0.0"
      ]
     },
     "execution_count": 19,
     "metadata": {},
     "output_type": "execute_result"
    }
   ],
   "source": [
    "testDevice.var('Z', wires=0, par=0)"
   ]
  },
  {
   "cell_type": "code",
   "execution_count": null,
   "metadata": {},
   "outputs": [],
   "source": []
  }
 ],
 "metadata": {
  "kernelspec": {
   "display_name": "Python 3",
   "language": "python",
   "name": "python3"
  },
  "language_info": {
   "codemirror_mode": {
    "name": "ipython",
    "version": 3
   },
   "file_extension": ".py",
   "mimetype": "text/x-python",
   "name": "python",
   "nbconvert_exporter": "python",
   "pygments_lexer": "ipython3",
   "version": "3.8.5"
  }
 },
 "nbformat": 4,
 "nbformat_minor": 4
}
